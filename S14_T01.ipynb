{
 "cells": [
  {
   "cell_type": "markdown",
   "id": "e946de82",
   "metadata": {},
   "source": [
    "# S14 T01: Tarea base de datos NoSQL\n",
    "\n",
    "## Descripción\n",
    "Empecemos a familiarizarnos con bases de datos NoSQL !!! Empecemos con varios ejercicios básicos\n",
    "___\n"
   ]
  },
  {
   "cell_type": "code",
   "execution_count": 1,
   "id": "794d825c",
   "metadata": {},
   "outputs": [],
   "source": [
    "# Libraries and Modules\n",
    "import sys\n",
    "import os\n",
    "import numpy as np \n",
    "import pandas as pd\n",
    "import matplotlib.pyplot as plt\n",
    "import seaborn as sns\n",
    "from IPython.display import Image\n",
    "from pymongo import MongoClient\n",
    "import json"
   ]
  },
  {
   "cell_type": "markdown",
   "id": "a9ed0d85",
   "metadata": {},
   "source": [
    "## Nivel 1\n",
    "### - Ejercicio 1\n",
    "Crear una base de datos NoSQL utilizando MongoDB. Añádele algunos datos de ejemplo que te permitan comprobar que eres capaz de procesar la información de forma básica.\n",
    "___\n",
    "Para el ejercicio 1 se genero una base de datos sencilla primeramente en la command shell de mongo:\n",
    "<br>\n",
    "\n",
    "Primeramente se configuro MongoDB"
   ]
  },
  {
   "cell_type": "code",
   "execution_count": 2,
   "id": "e83c0084",
   "metadata": {},
   "outputs": [
    {
     "data": {
      "text/html": [
       "<img src=\"mongo1.png\"/>"
      ],
      "text/plain": [
       "<IPython.core.display.Image object>"
      ]
     },
     "execution_count": 2,
     "metadata": {},
     "output_type": "execute_result"
    }
   ],
   "source": [
    "Image(url=\"mongo1.png\")"
   ]
  },
  {
   "cell_type": "markdown",
   "id": "b25796a8",
   "metadata": {},
   "source": [
    "Para crear una base de datos y sus documentos, existen diferentes opciones, una de ellas es generarla desde la mongo shell. Por lo que, para fines de practica, primero se procedio a utilizar el mongo shell para crear la primera base de datos para el ejercicio, entre la serie de comandos que se realizaron fueron: \n",
    "- creación de una base de datos\n",
    "- revisar que bases de datos existen\n",
    "- seleccionar base de datos\n",
    "- generar colecciones y documentos dentro de la base de datos \n",
    "- busquedas sencillas en la base de datos\n",
    "- busquedas que cumplen una condición dada\n",
    "- modificacion de datos ya introducidos\n",
    "- eliminar datos\n",
    "los comandos y datos introducidos son los siguientes:\n",
    "<br>\n",
    "\n",
    "*nota: el siguiente codigo es lo que fue introducido en el mongo shell, por lo que no se ejecuta dentro de jn.*\n",
    "<br> https://www.youtube.com/watch?v=2QQGWYe7IDU&ab_channel=TraversyMedia"
   ]
  },
  {
   "cell_type": "code",
   "execution_count": 4,
   "id": "b97bef08",
   "metadata": {},
   "outputs": [
    {
     "ename": "SyntaxError",
     "evalue": "invalid syntax (<ipython-input-4-880049dc508c>, line 1)",
     "output_type": "error",
     "traceback": [
      "\u001b[1;36m  File \u001b[1;32m\"<ipython-input-4-880049dc508c>\"\u001b[1;36m, line \u001b[1;32m1\u001b[0m\n\u001b[1;33m    Microsoft Windows [Version 10.0.19043.1645]\u001b[0m\n\u001b[1;37m              ^\u001b[0m\n\u001b[1;31mSyntaxError\u001b[0m\u001b[1;31m:\u001b[0m invalid syntax\n"
     ]
    }
   ],
   "source": [
    "Microsoft Windows [Version 10.0.19043.1645]\n",
    "(c) Microsoft Corporation. All rights reserved.\n",
    "\n",
    "#review version of mongo\n",
    "C:\\Users\\Usuario>mongosh --version\n",
    "1.3.1\n",
    "\n",
    "#connect mongo and create first database\n",
    "C:\\Users\\Usuario>mongosh \"mongodb+srv://cluster0.4aw1h.mongodb.net/myFirstDatabase\" --apiVersion 1 --username yovanna --password itacademy1\n",
    "Current Mongosh Log ID: 62670330d3c5867132bab574\n",
    "Connecting to:          mongodb+srv://cluster0.4aw1h.mongodb.net/myFirstDatabase?appName=mongosh+1.3.1\n",
    "Using MongoDB:          5.0.7 (API Version 1)\n",
    "Using Mongosh:          1.3.1\n",
    "\n",
    "For mongosh info see: https://docs.mongodb.com/mongodb-shell/\n",
    "\n",
    "\n",
    "To help improve our products, anonymous usage data is collected and sent to MongoDB periodically (https://www.mongodb.com/legal/privacy-policy).\n",
    "You can opt-out by running the disableTelemetry() command.\n",
    "\n",
    "#review de current database\n",
    "Atlas atlas-11bw70-shard-0 [primary] myFirstDatabase> db\n",
    "myFirstDatabase\n",
    "\n",
    "#review existing databases\n",
    "Atlas atlas-11bw70-shard-0 [primary] myFirstDatabase> show dbs\n",
    "S14_T01  8.19 kB\n",
    "admin     311 kB\n",
    "local    1.42 GB\n",
    "\n",
    "#select database to use\n",
    "Atlas atlas-11bw70-shard-0 [primary] myFirstDatabase> use test_db\n",
    "Atlas atlas-11bw70-shard-0 [primary] test_db>\n",
    "\n",
    "#create a new collection in the database\n",
    "Atlas atlas-11bw70-shard-0 [primary] test_db> db.createCollection(\"users\")\n",
    "{ ok: 1 }\n",
    "\n",
    "#insert a new document with basic information (insert one command)\n",
    "Atlas atlas-11bw70-shard-0 [primary] test_db> db.users.insertOne({name:\"yovanna\", lastname:\"valencia\", age:31, weigth:65, heigth:167})\n",
    "{\n",
    "  acknowledged: true,\n",
    "  insertedId: ObjectId(\"6267044573b133c13294797f\")\n",
    "}\n",
    "\n",
    "#insert a more documents (insert many command)\n",
    "Atlas atlas-11bw70-shard-0 [primary] test_db> db.users.insertMany([{name:\"Benjamin\", lastname:\"Guiraud\", age:33, weigth:90, heigheigth:198},\n",
    "... {name:\"Yulianna\", lastname:\"Barba\", age:29, weigth:55, heigth:163},\n",
    "... {name:\"Ezequiel\", lastname:\"Aguirre\", age:31, weigth:80, heigth:190},\n",
    "... {name:\"Aline\", lastname:\"Aguirre\", age:32, weigth:60, heigth:163},\n",
    "... ])\n",
    "{\n",
    "  acknowledged: true,\n",
    "  insertedIds: {\n",
    "    '0': ObjectId(\"626705b673b133c132947980\"),\n",
    "    '1': ObjectId(\"626705b673b133c132947981\"),\n",
    "    '2': ObjectId(\"626705b673b133c132947982\"),\n",
    "    '3': ObjectId(\"626705b673b133c132947983\")\n",
    "  }\n",
    "}\n",
    "\n",
    "#search collection (command find)\n",
    "Atlas atlas-11bw70-shard-0 [primary] test_db> db.users.find()\n",
    "[\n",
    "  {\n",
    "    _id: ObjectId(\"6267044573b133c13294797f\"),\n",
    "    name: 'yovanna',\n",
    "    lastname: 'valencia',\n",
    "    age: 31,\n",
    "    weigth: 65,\n",
    "    heigth: 167,\n",
    "  },\n",
    "  {\n",
    "    _id: ObjectId(\"626705b673b133c132947980\"),\n",
    "    name: 'Benjamin',\n",
    "    lastname: 'Guiraud',\n",
    "    age: 33,\n",
    "    weigth: 90,\n",
    "    heigth: 198,\n",
    "  },\n",
    "  {\n",
    "    _id: ObjectId(\"626705b673b133c132947981\"),\n",
    "    name: 'Yulianna',\n",
    "    lastname: 'Barba',\n",
    "    age: 29,\n",
    "    weigth: 55,\n",
    "    heigth: 163,\n",
    "  },\n",
    "  {\n",
    "    _id: ObjectId(\"626705b673b133c132947982\"),\n",
    "    name: 'Ezequiel',\n",
    "    lastname: 'Aguirre',\n",
    "    age: 31,\n",
    "    weigth: 80,\n",
    "    heigth: 190,\n",
    "  },\n",
    "  {\n",
    "    _id: ObjectId(\"626705b673b133c132947983\"),\n",
    "    name: 'Aline',\n",
    "    lastname: 'Aguirre',\n",
    "    age: 32,\n",
    "    weigth: 60,\n",
    "    heigth: 163,\n",
    "  }\n",
    "]\n",
    "\n",
    "#Search for a specific piece of information\n",
    "Atlas atlas-11bw70-shard-0 [primary] test_db> db.users.find({name:\"Yulianna\"})\n",
    "[\n",
    "  {\n",
    "    _id: ObjectId(\"626705b673b133c132947981\"),\n",
    "    name: 'Yulianna',\n",
    "    lastname: 'Barba',\n",
    "    age: 29,\n",
    "    weigth: 55,\n",
    "    heigth: 163,\n",
    "]\n",
    "\n",
    "#search for the number of users with specific characteristics\n",
    "Atlas atlas-11bw70-shard-0 [primary] test_db> db.users.find({age:31}).count()\n",
    "2\n",
    "\n",
    "#find the first document that fullfils the condition\n",
    "Atlas atlas-11bw70-shard-0 [primary] test_db> db.users.findOne({age:{$gt:30}})\n",
    "{\n",
    "  _id: ObjectId(\"6267044573b133c13294797f\"),\n",
    "  name: 'yovanna',\n",
    "  lastname: 'valencia',\n",
    "  age: 31,\n",
    "  weigth: 65,\n",
    "  heigth: 167,\n",
    "}\n",
    "\n",
    "#find all the users that fullfill the condition\n",
    "Atlas atlas-11bw70-shard-0 [primary] test_db> db.users.find({age:{$gt:30}})\n",
    "[\n",
    "  {\n",
    "    _id: ObjectId(\"6267044573b133c13294797f\"),\n",
    "    name: 'yovanna',\n",
    "    lastname: 'valencia',\n",
    "    age: 31,\n",
    "    weigth: 65,\n",
    "    heigth: 167,\n",
    "  },\n",
    "  {\n",
    "    _id: ObjectId(\"626705b673b133c132947980\"),\n",
    "    name: 'Benjamin',\n",
    "    lastname: 'Guiraud',\n",
    "    age: 33,\n",
    "    weigth: 90,\n",
    "    heigth: 198,\n",
    "  },\n",
    "  {\n",
    "    _id: ObjectId(\"626705b673b133c132947982\"),\n",
    "    name: 'Ezequiel',\n",
    "    lastname: 'Aguirre',\n",
    "    age: 31,\n",
    "    weigth: 80,\n",
    "    heigth: 190,\n",
    "  },\n",
    "  {\n",
    "    _id: ObjectId(\"626705b673b133c132947983\"),\n",
    "    name: 'Aline',\n",
    "    lastname: 'Aguirre',\n",
    "    age: 32,\n",
    "    weigth: 60,\n",
    "    heigth: 163,\n",
    "  }\n",
    "]\n",
    "\n",
    "#update specific data in a document\n",
    "Atlas atlas-11bw70-shard-0 [primary] test_db> db.users.updateOne({name:\"Aline}, {$set {lastname:\"Romero}})\n",
    "Atlas atlas-11bw70-shard-0 [primary] test_db> db.users.find({name:\"Aline\"})\n",
    "[\n",
    "  {cknowledged: true,\n",
    "    _id: ObjectId(\"626705b673b133c132947983\"),\n",
    "    name: 'Aline',\n",
    "    lastname: 'Romero',\n",
    "    age: 32,unt: 0\n",
    "    weigth: 60,\n",
    "    heigth: 163,\n",
    "  }\n",
    "]\n",
    "\n",
    "#insert new if not find\n",
    "Atlas atlas-11bw70-shard-0 [primary] test_db> db.users.updateOne({name:\"Lorena\"},{$set: {lastname:\"Lopez\",age:28, weigth:58,heigth:165,profession:[\"nutricionist\"]}},{upsert:true})\n",
    "{\n",
    "  acknowledged: true,\n",
    "  insertedId: ObjectId(\"62670a5346aca8efd666f87f\"),\n",
    "  matchedCount: 0,\n",
    "  modifiedCount: 0,\n",
    "  upsertedCount: 1\n",
    "}\n",
    "\n",
    "#increment all the ages in the database by 1\n",
    "Atlas atlas-11bw70-shard-0 [primary] test_db> db.users.updateMany({},{$inc:{age:1}})\n",
    "{\n",
    "  acknowledged: true,\n",
    "  insertedId: null,\n",
    "  matchedCount: 6,\n",
    "  modifiedCount: 6,\n",
    "  upsertedCount: 0\n",
    "}\n",
    "Atlas atlas-11bw70-shard-0 [primary] test_db> db.users.find()\n",
    "[\n",
    "  {\n",
    "    _id: ObjectId(\"6267044573b133c13294797f\"),\n",
    "    name: 'yovanna',\n",
    "    lastname: 'valencia',\n",
    "    age: 32,\n",
    "    weigth: 65,\n",
    "    heigth: 167,\n",
    "  },\n",
    "  {\n",
    "    _id: ObjectId(\"626705b673b133c132947980\"),\n",
    "    name: 'Benjamin',\n",
    "    lastname: 'Guiraud',\n",
    "    age: 34,\n",
    "    weigth: 90,\n",
    "    heigth: 198,\n",
    "  },\n",
    "  {\n",
    "    _id: ObjectId(\"626705b673b133c132947981\"),\n",
    "    name: 'Yulianna',\n",
    "    lastname: 'Barba',\n",
    "    age: 30,\n",
    "    weigth: 55,\n",
    "    heigth: 163,\n",
    "  },\n",
    "  {\n",
    "    _id: ObjectId(\"626705b673b133c132947982\"),\n",
    "    name: 'Ezequiel',\n",
    "    lastname: 'Aguirre',\n",
    "    age: 32,\n",
    "    weigth: 80,\n",
    "    heigth: 190,\n",
    "  },\n",
    "  {\n",
    "    _id: ObjectId(\"626705b673b133c132947983\"),\n",
    "    name: 'Aline',\n",
    "    lastname: 'Romero',\n",
    "    age: 33,\n",
    "    weigth: 60,\n",
    "    heigth: 163,\n",
    "  },\n",
    "  {\n",
    "    _id: ObjectId(\"62670a5346aca8efd666f87f\"),\n",
    "    name: 'Lorena',\n",
    "    age: 29,\n",
    "    heigth: 165,\n",
    "    lastname: 'Lopez',\n",
    "    weigth: 58\n",
    "  }\n",
    "]\n",
    "\n",
    "#delete a document\n",
    "Atlas atlas-11bw70-shard-0 [primary] test_db> db.users.deleteOne({name:\"Lorena\"})\n",
    "{ acknowledged: true, deletedCount: 1 }\n"
   ]
  },
  {
   "cell_type": "markdown",
   "id": "149c58c3",
   "metadata": {},
   "source": [
    "Ahora dentro del programa MongoDB se observa que ya tenemos la base de datos creada desde el shell:"
   ]
  },
  {
   "cell_type": "code",
   "execution_count": 3,
   "id": "5a28e581",
   "metadata": {},
   "outputs": [
    {
     "data": {
      "text/html": [
       "<img src=\"mongo2.1.png\"/>"
      ],
      "text/plain": [
       "<IPython.core.display.Image object>"
      ]
     },
     "execution_count": 3,
     "metadata": {},
     "output_type": "execute_result"
    }
   ],
   "source": [
    "Image(url=\"mongo2.1.png\")"
   ]
  },
  {
   "cell_type": "markdown",
   "id": "8dcecb34",
   "metadata": {},
   "source": [
    "Tambien se puede agregar informacion dentro del UI directamente en la opcion: **Insert document** y agregamos una nueva entrada:"
   ]
  },
  {
   "cell_type": "code",
   "execution_count": 4,
   "id": "ab2f0543",
   "metadata": {
    "scrolled": false
   },
   "outputs": [
    {
     "data": {
      "text/html": [
       "<img src=\"mongo3.png\"/>"
      ],
      "text/plain": [
       "<IPython.core.display.Image object>"
      ]
     },
     "execution_count": 4,
     "metadata": {},
     "output_type": "execute_result"
    }
   ],
   "source": [
    "Image(url=\"mongo3.png\")"
   ]
  },
  {
   "cell_type": "markdown",
   "id": "121b5d0a",
   "metadata": {},
   "source": [
    "Tambien dentro de la misma interface podemos hacer busquedas filtradas como las realizadas en el shell:"
   ]
  },
  {
   "cell_type": "code",
   "execution_count": 5,
   "id": "9f2350ca",
   "metadata": {},
   "outputs": [
    {
     "data": {
      "text/html": [
       "<img src=\"mongo4.png\"/>"
      ],
      "text/plain": [
       "<IPython.core.display.Image object>"
      ]
     },
     "execution_count": 5,
     "metadata": {},
     "output_type": "execute_result"
    }
   ],
   "source": [
    "Image(url=\"mongo4.png\")"
   ]
  },
  {
   "cell_type": "markdown",
   "id": "4020f6d7",
   "metadata": {},
   "source": [
    "### - Ejercicio 2\n",
    "Conecta la base de datos NoSQL a Python utilizando por ejemplo pymongo."
   ]
  },
  {
   "cell_type": "code",
   "execution_count": 2,
   "id": "12515923",
   "metadata": {},
   "outputs": [],
   "source": [
    "#MongDB connection with pymongo\n",
    "Client = MongoClient('localhost',27017)"
   ]
  },
  {
   "cell_type": "code",
   "execution_count": 3,
   "id": "1241b55a",
   "metadata": {},
   "outputs": [
    {
     "data": {
      "text/plain": [
       "['admin', 'config', 'local', 'test_db']"
      ]
     },
     "execution_count": 3,
     "metadata": {},
     "output_type": "execute_result"
    }
   ],
   "source": [
    "#check the databases available\n",
    "Client.list_database_names()"
   ]
  },
  {
   "cell_type": "code",
   "execution_count": 23,
   "id": "7b26a362",
   "metadata": {},
   "outputs": [],
   "source": [
    "#select required db\n",
    "db=Client.test_db"
   ]
  },
  {
   "cell_type": "code",
   "execution_count": 24,
   "id": "01e9f515",
   "metadata": {},
   "outputs": [
    {
     "data": {
      "text/plain": [
       "['users']"
      ]
     },
     "execution_count": 24,
     "metadata": {},
     "output_type": "execute_result"
    }
   ],
   "source": [
    "#check the collections available\n",
    "collect_names = db.list_collection_names()\n",
    "collect_names"
   ]
  },
  {
   "cell_type": "code",
   "execution_count": 25,
   "id": "0158b967",
   "metadata": {},
   "outputs": [],
   "source": [
    "#select the collection users\n",
    "collection = db.get_collection(\"users\")"
   ]
  },
  {
   "cell_type": "markdown",
   "id": "2ebbf49e",
   "metadata": {},
   "source": [
    "## Nivel 2\n",
    "### - Ejercicio 1\n",
    "Carga algunas consultas sencillas a un Pandas Dataframe. "
   ]
  },
  {
   "cell_type": "code",
   "execution_count": 26,
   "id": "3167faf0",
   "metadata": {
    "scrolled": true
   },
   "outputs": [
    {
     "data": {
      "text/html": [
       "<div>\n",
       "<style scoped>\n",
       "    .dataframe tbody tr th:only-of-type {\n",
       "        vertical-align: middle;\n",
       "    }\n",
       "\n",
       "    .dataframe tbody tr th {\n",
       "        vertical-align: top;\n",
       "    }\n",
       "\n",
       "    .dataframe thead th {\n",
       "        text-align: right;\n",
       "    }\n",
       "</style>\n",
       "<table border=\"1\" class=\"dataframe\">\n",
       "  <thead>\n",
       "    <tr style=\"text-align: right;\">\n",
       "      <th></th>\n",
       "      <th>_id</th>\n",
       "      <th>name</th>\n",
       "      <th>lastname</th>\n",
       "      <th>age</th>\n",
       "      <th>weigth</th>\n",
       "      <th>heigth</th>\n",
       "      <th>hour_play</th>\n",
       "    </tr>\n",
       "  </thead>\n",
       "  <tbody>\n",
       "    <tr>\n",
       "      <th>0</th>\n",
       "      <td>6267044573b133c13294797f</td>\n",
       "      <td>Yovanna</td>\n",
       "      <td>Valencia</td>\n",
       "      <td>32</td>\n",
       "      <td>65</td>\n",
       "      <td>167</td>\n",
       "      <td>20</td>\n",
       "    </tr>\n",
       "    <tr>\n",
       "      <th>1</th>\n",
       "      <td>626705b673b133c132947980</td>\n",
       "      <td>Benjamin</td>\n",
       "      <td>Guiraud</td>\n",
       "      <td>34</td>\n",
       "      <td>90</td>\n",
       "      <td>198</td>\n",
       "      <td>44</td>\n",
       "    </tr>\n",
       "    <tr>\n",
       "      <th>2</th>\n",
       "      <td>626705b673b133c132947981</td>\n",
       "      <td>Yulianna</td>\n",
       "      <td>Barba</td>\n",
       "      <td>30</td>\n",
       "      <td>55</td>\n",
       "      <td>163</td>\n",
       "      <td>28</td>\n",
       "    </tr>\n",
       "    <tr>\n",
       "      <th>3</th>\n",
       "      <td>626705b673b133c132947982</td>\n",
       "      <td>Ezequiel</td>\n",
       "      <td>Aguirre</td>\n",
       "      <td>32</td>\n",
       "      <td>80</td>\n",
       "      <td>190</td>\n",
       "      <td>55</td>\n",
       "    </tr>\n",
       "    <tr>\n",
       "      <th>4</th>\n",
       "      <td>626705b673b133c132947983</td>\n",
       "      <td>Aline</td>\n",
       "      <td>Romero</td>\n",
       "      <td>33</td>\n",
       "      <td>60</td>\n",
       "      <td>163</td>\n",
       "      <td>18</td>\n",
       "    </tr>\n",
       "    <tr>\n",
       "      <th>5</th>\n",
       "      <td>62670bf1af73e02b31d3d8e3</td>\n",
       "      <td>Lorena</td>\n",
       "      <td>Lopez</td>\n",
       "      <td>29</td>\n",
       "      <td>58</td>\n",
       "      <td>166</td>\n",
       "      <td>5</td>\n",
       "    </tr>\n",
       "  </tbody>\n",
       "</table>\n",
       "</div>"
      ],
      "text/plain": [
       "                        _id      name  lastname  age  weigth  heigth  \\\n",
       "0  6267044573b133c13294797f   Yovanna  Valencia   32      65     167   \n",
       "1  626705b673b133c132947980  Benjamin   Guiraud   34      90     198   \n",
       "2  626705b673b133c132947981  Yulianna     Barba   30      55     163   \n",
       "3  626705b673b133c132947982  Ezequiel   Aguirre   32      80     190   \n",
       "4  626705b673b133c132947983     Aline    Romero   33      60     163   \n",
       "5  62670bf1af73e02b31d3d8e3    Lorena     Lopez   29      58     166   \n",
       "\n",
       "   hour_play  \n",
       "0         20  \n",
       "1         44  \n",
       "2         28  \n",
       "3         55  \n",
       "4         18  \n",
       "5          5  "
      ]
     },
     "execution_count": 26,
     "metadata": {},
     "output_type": "execute_result"
    }
   ],
   "source": [
    "# We create a dataframe with the data of the last collection created\n",
    "users_df = pd.DataFrame(list(collection.find()))\n",
    "users_df"
   ]
  },
  {
   "cell_type": "markdown",
   "id": "28112d3b",
   "metadata": {},
   "source": [
    "Se genera una query para obtener los usuarios de mayor edad en el database:"
   ]
  },
  {
   "cell_type": "code",
   "execution_count": 27,
   "id": "c5c50fbd",
   "metadata": {},
   "outputs": [],
   "source": [
    "#simple query to filter by age\n",
    "query = {'age':{'$gte':31}}"
   ]
  },
  {
   "cell_type": "code",
   "execution_count": 28,
   "id": "e71eef72",
   "metadata": {},
   "outputs": [],
   "source": [
    "high_age = collection.find(query)"
   ]
  },
  {
   "cell_type": "code",
   "execution_count": 29,
   "id": "a6b91301",
   "metadata": {
    "scrolled": false
   },
   "outputs": [
    {
     "data": {
      "text/html": [
       "<div>\n",
       "<style scoped>\n",
       "    .dataframe tbody tr th:only-of-type {\n",
       "        vertical-align: middle;\n",
       "    }\n",
       "\n",
       "    .dataframe tbody tr th {\n",
       "        vertical-align: top;\n",
       "    }\n",
       "\n",
       "    .dataframe thead th {\n",
       "        text-align: right;\n",
       "    }\n",
       "</style>\n",
       "<table border=\"1\" class=\"dataframe\">\n",
       "  <thead>\n",
       "    <tr style=\"text-align: right;\">\n",
       "      <th></th>\n",
       "      <th>_id</th>\n",
       "      <th>name</th>\n",
       "      <th>lastname</th>\n",
       "      <th>age</th>\n",
       "      <th>weigth</th>\n",
       "      <th>heigth</th>\n",
       "      <th>hour_play</th>\n",
       "    </tr>\n",
       "  </thead>\n",
       "  <tbody>\n",
       "    <tr>\n",
       "      <th>0</th>\n",
       "      <td>6267044573b133c13294797f</td>\n",
       "      <td>Yovanna</td>\n",
       "      <td>Valencia</td>\n",
       "      <td>32</td>\n",
       "      <td>65</td>\n",
       "      <td>167</td>\n",
       "      <td>20</td>\n",
       "    </tr>\n",
       "    <tr>\n",
       "      <th>1</th>\n",
       "      <td>626705b673b133c132947980</td>\n",
       "      <td>Benjamin</td>\n",
       "      <td>Guiraud</td>\n",
       "      <td>34</td>\n",
       "      <td>90</td>\n",
       "      <td>198</td>\n",
       "      <td>44</td>\n",
       "    </tr>\n",
       "    <tr>\n",
       "      <th>2</th>\n",
       "      <td>626705b673b133c132947982</td>\n",
       "      <td>Ezequiel</td>\n",
       "      <td>Aguirre</td>\n",
       "      <td>32</td>\n",
       "      <td>80</td>\n",
       "      <td>190</td>\n",
       "      <td>55</td>\n",
       "    </tr>\n",
       "    <tr>\n",
       "      <th>3</th>\n",
       "      <td>626705b673b133c132947983</td>\n",
       "      <td>Aline</td>\n",
       "      <td>Romero</td>\n",
       "      <td>33</td>\n",
       "      <td>60</td>\n",
       "      <td>163</td>\n",
       "      <td>18</td>\n",
       "    </tr>\n",
       "  </tbody>\n",
       "</table>\n",
       "</div>"
      ],
      "text/plain": [
       "                        _id      name  lastname  age  weigth  heigth  \\\n",
       "0  6267044573b133c13294797f   Yovanna  Valencia   32      65     167   \n",
       "1  626705b673b133c132947980  Benjamin   Guiraud   34      90     198   \n",
       "2  626705b673b133c132947982  Ezequiel   Aguirre   32      80     190   \n",
       "3  626705b673b133c132947983     Aline    Romero   33      60     163   \n",
       "\n",
       "   hour_play  \n",
       "0         20  \n",
       "1         44  \n",
       "2         55  \n",
       "3         18  "
      ]
     },
     "execution_count": 29,
     "metadata": {},
     "output_type": "execute_result"
    }
   ],
   "source": [
    "high_db = pd.DataFrame(list(high_age))\n",
    "high_db"
   ]
  },
  {
   "cell_type": "markdown",
   "id": "e9a61140",
   "metadata": {},
   "source": [
    "Se ordenan los datos por horas de juego:"
   ]
  },
  {
   "cell_type": "code",
   "execution_count": 38,
   "id": "4a721d40",
   "metadata": {},
   "outputs": [
    {
     "data": {
      "text/html": [
       "<div>\n",
       "<style scoped>\n",
       "    .dataframe tbody tr th:only-of-type {\n",
       "        vertical-align: middle;\n",
       "    }\n",
       "\n",
       "    .dataframe tbody tr th {\n",
       "        vertical-align: top;\n",
       "    }\n",
       "\n",
       "    .dataframe thead th {\n",
       "        text-align: right;\n",
       "    }\n",
       "</style>\n",
       "<table border=\"1\" class=\"dataframe\">\n",
       "  <thead>\n",
       "    <tr style=\"text-align: right;\">\n",
       "      <th></th>\n",
       "      <th>_id</th>\n",
       "      <th>name</th>\n",
       "      <th>lastname</th>\n",
       "      <th>age</th>\n",
       "      <th>weigth</th>\n",
       "      <th>heigth</th>\n",
       "      <th>hour_play</th>\n",
       "    </tr>\n",
       "  </thead>\n",
       "  <tbody>\n",
       "    <tr>\n",
       "      <th>2</th>\n",
       "      <td>626705b673b133c132947982</td>\n",
       "      <td>Ezequiel</td>\n",
       "      <td>Aguirre</td>\n",
       "      <td>32</td>\n",
       "      <td>80</td>\n",
       "      <td>190</td>\n",
       "      <td>55</td>\n",
       "    </tr>\n",
       "    <tr>\n",
       "      <th>1</th>\n",
       "      <td>626705b673b133c132947980</td>\n",
       "      <td>Benjamin</td>\n",
       "      <td>Guiraud</td>\n",
       "      <td>34</td>\n",
       "      <td>90</td>\n",
       "      <td>198</td>\n",
       "      <td>44</td>\n",
       "    </tr>\n",
       "    <tr>\n",
       "      <th>0</th>\n",
       "      <td>6267044573b133c13294797f</td>\n",
       "      <td>Yovanna</td>\n",
       "      <td>Valencia</td>\n",
       "      <td>32</td>\n",
       "      <td>65</td>\n",
       "      <td>167</td>\n",
       "      <td>20</td>\n",
       "    </tr>\n",
       "    <tr>\n",
       "      <th>3</th>\n",
       "      <td>626705b673b133c132947983</td>\n",
       "      <td>Aline</td>\n",
       "      <td>Romero</td>\n",
       "      <td>33</td>\n",
       "      <td>60</td>\n",
       "      <td>163</td>\n",
       "      <td>18</td>\n",
       "    </tr>\n",
       "  </tbody>\n",
       "</table>\n",
       "</div>"
      ],
      "text/plain": [
       "                        _id      name  lastname  age  weigth  heigth  \\\n",
       "2  626705b673b133c132947982  Ezequiel   Aguirre   32      80     190   \n",
       "1  626705b673b133c132947980  Benjamin   Guiraud   34      90     198   \n",
       "0  6267044573b133c13294797f   Yovanna  Valencia   32      65     167   \n",
       "3  626705b673b133c132947983     Aline    Romero   33      60     163   \n",
       "\n",
       "   hour_play  \n",
       "2         55  \n",
       "1         44  \n",
       "0         20  \n",
       "3         18  "
      ]
     },
     "execution_count": 38,
     "metadata": {},
     "output_type": "execute_result"
    }
   ],
   "source": [
    "high_db.sort_values(by='hour_play',ascending=False)"
   ]
  },
  {
   "cell_type": "markdown",
   "id": "b90f310e",
   "metadata": {},
   "source": [
    "## Nivel 3\n",
    "### - Ejercicio 1\n",
    "Genera un resumen estadístico de la información contenida en la base de datos."
   ]
  },
  {
   "cell_type": "code",
   "execution_count": 30,
   "id": "e3271a3a",
   "metadata": {
    "scrolled": true
   },
   "outputs": [
    {
     "data": {
      "text/html": [
       "<div>\n",
       "<style scoped>\n",
       "    .dataframe tbody tr th:only-of-type {\n",
       "        vertical-align: middle;\n",
       "    }\n",
       "\n",
       "    .dataframe tbody tr th {\n",
       "        vertical-align: top;\n",
       "    }\n",
       "\n",
       "    .dataframe thead th {\n",
       "        text-align: right;\n",
       "    }\n",
       "</style>\n",
       "<table border=\"1\" class=\"dataframe\">\n",
       "  <thead>\n",
       "    <tr style=\"text-align: right;\">\n",
       "      <th></th>\n",
       "      <th>age</th>\n",
       "      <th>weigth</th>\n",
       "      <th>heigth</th>\n",
       "      <th>hour_play</th>\n",
       "    </tr>\n",
       "  </thead>\n",
       "  <tbody>\n",
       "    <tr>\n",
       "      <th>count</th>\n",
       "      <td>6.00</td>\n",
       "      <td>6.00</td>\n",
       "      <td>6.00</td>\n",
       "      <td>6.00</td>\n",
       "    </tr>\n",
       "    <tr>\n",
       "      <th>mean</th>\n",
       "      <td>31.67</td>\n",
       "      <td>68.00</td>\n",
       "      <td>174.50</td>\n",
       "      <td>28.33</td>\n",
       "    </tr>\n",
       "    <tr>\n",
       "      <th>std</th>\n",
       "      <td>1.86</td>\n",
       "      <td>13.93</td>\n",
       "      <td>15.40</td>\n",
       "      <td>18.32</td>\n",
       "    </tr>\n",
       "    <tr>\n",
       "      <th>min</th>\n",
       "      <td>29.00</td>\n",
       "      <td>55.00</td>\n",
       "      <td>163.00</td>\n",
       "      <td>5.00</td>\n",
       "    </tr>\n",
       "    <tr>\n",
       "      <th>25%</th>\n",
       "      <td>30.50</td>\n",
       "      <td>58.50</td>\n",
       "      <td>163.75</td>\n",
       "      <td>18.50</td>\n",
       "    </tr>\n",
       "    <tr>\n",
       "      <th>50%</th>\n",
       "      <td>32.00</td>\n",
       "      <td>62.50</td>\n",
       "      <td>166.50</td>\n",
       "      <td>24.00</td>\n",
       "    </tr>\n",
       "    <tr>\n",
       "      <th>75%</th>\n",
       "      <td>32.75</td>\n",
       "      <td>76.25</td>\n",
       "      <td>184.25</td>\n",
       "      <td>40.00</td>\n",
       "    </tr>\n",
       "    <tr>\n",
       "      <th>max</th>\n",
       "      <td>34.00</td>\n",
       "      <td>90.00</td>\n",
       "      <td>198.00</td>\n",
       "      <td>55.00</td>\n",
       "    </tr>\n",
       "  </tbody>\n",
       "</table>\n",
       "</div>"
      ],
      "text/plain": [
       "         age  weigth  heigth  hour_play\n",
       "count   6.00    6.00    6.00       6.00\n",
       "mean   31.67   68.00  174.50      28.33\n",
       "std     1.86   13.93   15.40      18.32\n",
       "min    29.00   55.00  163.00       5.00\n",
       "25%    30.50   58.50  163.75      18.50\n",
       "50%    32.00   62.50  166.50      24.00\n",
       "75%    32.75   76.25  184.25      40.00\n",
       "max    34.00   90.00  198.00      55.00"
      ]
     },
     "execution_count": 30,
     "metadata": {},
     "output_type": "execute_result"
    }
   ],
   "source": [
    "#stadistic resume of the numerical variables\n",
    "users_df.describe().round(2)"
   ]
  },
  {
   "cell_type": "markdown",
   "id": "3c1939bd",
   "metadata": {},
   "source": [
    "Se hace un grafico para explorar la relacion entre el peso y la altura de los usarios:"
   ]
  },
  {
   "cell_type": "code",
   "execution_count": 31,
   "id": "55594c17",
   "metadata": {},
   "outputs": [
    {
     "data": {
      "text/plain": [
       "<AxesSubplot:xlabel='weigth', ylabel='heigth'>"
      ]
     },
     "execution_count": 31,
     "metadata": {},
     "output_type": "execute_result"
    },
    {
     "data": {
      "image/png": "[encoded data removed]",
      "text/plain": [
       "<Figure size 432x288 with 1 Axes>"
      ]
     },
     "metadata": {
      "needs_background": "light"
     },
     "output_type": "display_data"
    }
   ],
   "source": [
    "#categorical plot observing the relation within weigth and heigth\n",
    "sns.scatterplot(x=users_df['weigth'],y=users_df['heigth'], hue=users_df['age'])"
   ]
  },
  {
   "cell_type": "markdown",
   "id": "513c0d4d",
   "metadata": {},
   "source": [
    "Y ahora se exploda una relación entre todas las variables numericas:"
   ]
  },
  {
   "cell_type": "code",
   "execution_count": 32,
   "id": "7346cedb",
   "metadata": {},
   "outputs": [
    {
     "data": {
      "text/plain": [
       "<seaborn.axisgrid.PairGrid at 0x19d01aa0dc0>"
      ]
     },
     "execution_count": 32,
     "metadata": {},
     "output_type": "execute_result"
    },
    {
     "data": {
      "image/png": "[encoded data removed]",
      "text/plain": [
       "<Figure size 720x720 with 20 Axes>"
      ]
     },
     "metadata": {
      "needs_background": "light"
     },
     "output_type": "display_data"
    }
   ],
   "source": [
    "#Matrix Plot all numerical variables\n",
    "sns.pairplot(users_df, diag_kind='hist', plot_kws={'alpha': 0.2})"
   ]
  },
  {
   "cell_type": "code",
   "execution_count": null,
   "id": "6c41607a",
   "metadata": {},
   "outputs": [],
   "source": []
  },
  {
   "cell_type": "code",
   "execution_count": null,
   "id": "8c6842bb",
   "metadata": {},
   "outputs": [],
   "source": []
  }
 ],
 "metadata": {
  "kernelspec": {
   "display_name": "Python 3",
   "language": "python",
   "name": "python3"
  },
  "language_info": {
   "codemirror_mode": {
    "name": "ipython",
    "version": 3
   },
   "file_extension": ".py",
   "mimetype": "text/x-python",
   "name": "python",
   "nbconvert_exporter": "python",
   "pygments_lexer": "ipython3",
   "version": "3.8.8"
  }
 },
 "nbformat": 4,
 "nbformat_minor": 5
}
